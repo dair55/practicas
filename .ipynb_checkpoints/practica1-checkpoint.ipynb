{
 "cells": [
  {
   "cell_type": "markdown",
   "metadata": {},
   "source": [
    "## PRACTICA1"
   ]
  },
  {
   "cell_type": "markdown",
   "metadata": {},
   "source": [
    "## Importar paqueterias y cargar la base de datos"
   ]
  },
  {
   "cell_type": "code",
   "execution_count": 2,
   "metadata": {},
   "outputs": [],
   "source": [
    "import pandas as pd \n",
    "import numpy as np\n",
    "path = '/home/vagrant/fuerocomunmunicipios.csv'"
   ]
  },
  {
   "cell_type": "code",
   "execution_count": 7,
   "metadata": {},
   "outputs": [
    {
     "data": {
      "text/html": [
       "<div>\n",
       "<style scoped>\n",
       "    .dataframe tbody tr th:only-of-type {\n",
       "        vertical-align: middle;\n",
       "    }\n",
       "\n",
       "    .dataframe tbody tr th {\n",
       "        vertical-align: top;\n",
       "    }\n",
       "\n",
       "    .dataframe thead th {\n",
       "        text-align: right;\n",
       "    }\n",
       "</style>\n",
       "<table border=\"1\" class=\"dataframe\">\n",
       "  <thead>\n",
       "    <tr style=\"text-align: right;\">\n",
       "      <th></th>\n",
       "      <th>state_code</th>\n",
       "      <th>mun_code</th>\n",
       "      <th>year</th>\n",
       "      <th>month</th>\n",
       "      <th>crime</th>\n",
       "      <th>category</th>\n",
       "      <th>type</th>\n",
       "      <th>subtype</th>\n",
       "      <th>count</th>\n",
       "      <th>population</th>\n",
       "    </tr>\n",
       "  </thead>\n",
       "  <tbody>\n",
       "    <tr>\n",
       "      <td>0</td>\n",
       "      <td>1</td>\n",
       "      <td>1</td>\n",
       "      <td>2011</td>\n",
       "      <td>1</td>\n",
       "      <td>\"DELITOS PATRIMONIALES\"</td>\n",
       "      <td>\"DELITOS PATRIMONIALES\"</td>\n",
       "      <td>\"ABUSO DE CONFIANZA\"</td>\n",
       "      <td>\"ABUSO DE CONFIANZA\"</td>\n",
       "      <td>44.0</td>\n",
       "      <td>811483.0</td>\n",
       "    </tr>\n",
       "    <tr>\n",
       "      <td>1</td>\n",
       "      <td>1</td>\n",
       "      <td>1</td>\n",
       "      <td>2011</td>\n",
       "      <td>2</td>\n",
       "      <td>\"DELITOS PATRIMONIALES\"</td>\n",
       "      <td>\"DELITOS PATRIMONIALES\"</td>\n",
       "      <td>\"ABUSO DE CONFIANZA\"</td>\n",
       "      <td>\"ABUSO DE CONFIANZA\"</td>\n",
       "      <td>43.0</td>\n",
       "      <td>812551.0</td>\n",
       "    </tr>\n",
       "    <tr>\n",
       "      <td>2</td>\n",
       "      <td>1</td>\n",
       "      <td>1</td>\n",
       "      <td>2011</td>\n",
       "      <td>3</td>\n",
       "      <td>\"DELITOS PATRIMONIALES\"</td>\n",
       "      <td>\"DELITOS PATRIMONIALES\"</td>\n",
       "      <td>\"ABUSO DE CONFIANZA\"</td>\n",
       "      <td>\"ABUSO DE CONFIANZA\"</td>\n",
       "      <td>34.0</td>\n",
       "      <td>813619.0</td>\n",
       "    </tr>\n",
       "    <tr>\n",
       "      <td>3</td>\n",
       "      <td>1</td>\n",
       "      <td>1</td>\n",
       "      <td>2011</td>\n",
       "      <td>4</td>\n",
       "      <td>\"DELITOS PATRIMONIALES\"</td>\n",
       "      <td>\"DELITOS PATRIMONIALES\"</td>\n",
       "      <td>\"ABUSO DE CONFIANZA\"</td>\n",
       "      <td>\"ABUSO DE CONFIANZA\"</td>\n",
       "      <td>21.0</td>\n",
       "      <td>814686.0</td>\n",
       "    </tr>\n",
       "    <tr>\n",
       "      <td>4</td>\n",
       "      <td>1</td>\n",
       "      <td>1</td>\n",
       "      <td>2011</td>\n",
       "      <td>5</td>\n",
       "      <td>\"DELITOS PATRIMONIALES\"</td>\n",
       "      <td>\"DELITOS PATRIMONIALES\"</td>\n",
       "      <td>\"ABUSO DE CONFIANZA\"</td>\n",
       "      <td>\"ABUSO DE CONFIANZA\"</td>\n",
       "      <td>35.0</td>\n",
       "      <td>815754.0</td>\n",
       "    </tr>\n",
       "  </tbody>\n",
       "</table>\n",
       "</div>"
      ],
      "text/plain": [
       "   state_code  mun_code  year  month                    crime  \\\n",
       "0           1         1  2011      1  \"DELITOS PATRIMONIALES\"   \n",
       "1           1         1  2011      2  \"DELITOS PATRIMONIALES\"   \n",
       "2           1         1  2011      3  \"DELITOS PATRIMONIALES\"   \n",
       "3           1         1  2011      4  \"DELITOS PATRIMONIALES\"   \n",
       "4           1         1  2011      5  \"DELITOS PATRIMONIALES\"   \n",
       "\n",
       "                  category                  type               subtype  count  \\\n",
       "0  \"DELITOS PATRIMONIALES\"  \"ABUSO DE CONFIANZA\"  \"ABUSO DE CONFIANZA\"   44.0   \n",
       "1  \"DELITOS PATRIMONIALES\"  \"ABUSO DE CONFIANZA\"  \"ABUSO DE CONFIANZA\"   43.0   \n",
       "2  \"DELITOS PATRIMONIALES\"  \"ABUSO DE CONFIANZA\"  \"ABUSO DE CONFIANZA\"   34.0   \n",
       "3  \"DELITOS PATRIMONIALES\"  \"ABUSO DE CONFIANZA\"  \"ABUSO DE CONFIANZA\"   21.0   \n",
       "4  \"DELITOS PATRIMONIALES\"  \"ABUSO DE CONFIANZA\"  \"ABUSO DE CONFIANZA\"   35.0   \n",
       "\n",
       "   population  \n",
       "0    811483.0  \n",
       "1    812551.0  \n",
       "2    813619.0  \n",
       "3    814686.0  \n",
       "4    815754.0  "
      ]
     },
     "execution_count": 7,
     "metadata": {},
     "output_type": "execute_result"
    }
   ],
   "source": [
    "df = pd.read_csv(path, encoding='utf-8',quotechar=None, quoting=3,low_memory=False)\n",
    "df.head()"
   ]
  },
  {
   "cell_type": "code",
   "execution_count": 33,
   "metadata": {},
   "outputs": [
    {
     "data": {
      "text/plain": [
       "(184917, 10)"
      ]
     },
     "execution_count": 33,
     "metadata": {},
     "output_type": "execute_result"
    }
   ],
   "source": [
    "df.shape"
   ]
  },
  {
   "cell_type": "code",
   "execution_count": 24,
   "metadata": {},
   "outputs": [
    {
     "name": "stdout",
     "output_type": "stream",
     "text": [
      "<class 'pandas.core.frame.DataFrame'>\n",
      "RangeIndex: 184917 entries, 0 to 184916\n",
      "Data columns (total 10 columns):\n",
      "state_code    184917 non-null int64\n",
      "mun_code      184917 non-null int64\n",
      "year          184917 non-null int64\n",
      "month         184917 non-null int64\n",
      "crime         184917 non-null object\n",
      "category      184917 non-null object\n",
      "type          184916 non-null object\n",
      "subtype       184916 non-null object\n",
      "count         146058 non-null float64\n",
      "population    184916 non-null float64\n",
      "dtypes: float64(2), int64(4), object(4)\n",
      "memory usage: 14.1+ MB\n"
     ]
    }
   ],
   "source": [
    "df.info()"
   ]
  },
  {
   "cell_type": "code",
   "execution_count": 35,
   "metadata": {},
   "outputs": [],
   "source": [
    "lista=df.columns.values.tolist()"
   ]
  },
  {
   "cell_type": "code",
   "execution_count": 41,
   "metadata": {},
   "outputs": [
    {
     "data": {
      "text/html": [
       "<div>\n",
       "<style scoped>\n",
       "    .dataframe tbody tr th:only-of-type {\n",
       "        vertical-align: middle;\n",
       "    }\n",
       "\n",
       "    .dataframe tbody tr th {\n",
       "        vertical-align: top;\n",
       "    }\n",
       "\n",
       "    .dataframe thead th {\n",
       "        text-align: right;\n",
       "    }\n",
       "</style>\n",
       "<table border=\"1\" class=\"dataframe\">\n",
       "  <thead>\n",
       "    <tr style=\"text-align: right;\">\n",
       "      <th></th>\n",
       "      <th>year</th>\n",
       "      <th>crime</th>\n",
       "      <th>count</th>\n",
       "    </tr>\n",
       "  </thead>\n",
       "  <tbody>\n",
       "    <tr>\n",
       "      <td>0</td>\n",
       "      <td>2011</td>\n",
       "      <td>\"DELITOS PATRIMONIALES\"</td>\n",
       "      <td>44.0</td>\n",
       "    </tr>\n",
       "    <tr>\n",
       "      <td>1</td>\n",
       "      <td>2011</td>\n",
       "      <td>\"DELITOS PATRIMONIALES\"</td>\n",
       "      <td>43.0</td>\n",
       "    </tr>\n",
       "    <tr>\n",
       "      <td>2</td>\n",
       "      <td>2011</td>\n",
       "      <td>\"DELITOS PATRIMONIALES\"</td>\n",
       "      <td>34.0</td>\n",
       "    </tr>\n",
       "    <tr>\n",
       "      <td>3</td>\n",
       "      <td>2011</td>\n",
       "      <td>\"DELITOS PATRIMONIALES\"</td>\n",
       "      <td>21.0</td>\n",
       "    </tr>\n",
       "    <tr>\n",
       "      <td>4</td>\n",
       "      <td>2011</td>\n",
       "      <td>\"DELITOS PATRIMONIALES\"</td>\n",
       "      <td>35.0</td>\n",
       "    </tr>\n",
       "    <tr>\n",
       "      <td>...</td>\n",
       "      <td>...</td>\n",
       "      <td>...</td>\n",
       "      <td>...</td>\n",
       "    </tr>\n",
       "    <tr>\n",
       "      <td>184912</td>\n",
       "      <td>2013</td>\n",
       "      <td>\"DELITOS PATRIMONIALES\"</td>\n",
       "      <td>0.0</td>\n",
       "    </tr>\n",
       "    <tr>\n",
       "      <td>184913</td>\n",
       "      <td>2013</td>\n",
       "      <td>\"DELITOS PATRIMONIALES\"</td>\n",
       "      <td>0.0</td>\n",
       "    </tr>\n",
       "    <tr>\n",
       "      <td>184914</td>\n",
       "      <td>2013</td>\n",
       "      <td>\"DELITOS PATRIMONIALES\"</td>\n",
       "      <td>0.0</td>\n",
       "    </tr>\n",
       "    <tr>\n",
       "      <td>184915</td>\n",
       "      <td>2013</td>\n",
       "      <td>\"DELITOS PATRIMONIALES\"</td>\n",
       "      <td>0.0</td>\n",
       "    </tr>\n",
       "    <tr>\n",
       "      <td>184916</td>\n",
       "      <td>2014</td>\n",
       "      <td>\"DELITOS PATRIMONIALES\"</td>\n",
       "      <td>NaN</td>\n",
       "    </tr>\n",
       "  </tbody>\n",
       "</table>\n",
       "<p>184917 rows × 3 columns</p>\n",
       "</div>"
      ],
      "text/plain": [
       "        year                    crime  count\n",
       "0       2011  \"DELITOS PATRIMONIALES\"   44.0\n",
       "1       2011  \"DELITOS PATRIMONIALES\"   43.0\n",
       "2       2011  \"DELITOS PATRIMONIALES\"   34.0\n",
       "3       2011  \"DELITOS PATRIMONIALES\"   21.0\n",
       "4       2011  \"DELITOS PATRIMONIALES\"   35.0\n",
       "...      ...                      ...    ...\n",
       "184912  2013  \"DELITOS PATRIMONIALES\"    0.0\n",
       "184913  2013  \"DELITOS PATRIMONIALES\"    0.0\n",
       "184914  2013  \"DELITOS PATRIMONIALES\"    0.0\n",
       "184915  2013  \"DELITOS PATRIMONIALES\"    0.0\n",
       "184916  2014  \"DELITOS PATRIMONIALES\"    NaN\n",
       "\n",
       "[184917 rows x 3 columns]"
      ]
     },
     "execution_count": 41,
     "metadata": {},
     "output_type": "execute_result"
    }
   ],
   "source": [
    "df[['year','crime']+['count']]"
   ]
  },
  {
   "cell_type": "code",
   "execution_count": null,
   "metadata": {},
   "outputs": [],
   "source": []
  }
 ],
 "metadata": {
  "kernelspec": {
   "display_name": "Python 3",
   "language": "python",
   "name": "python3"
  },
  "language_info": {
   "codemirror_mode": {
    "name": "ipython",
    "version": 3
   },
   "file_extension": ".py",
   "mimetype": "text/x-python",
   "name": "python",
   "nbconvert_exporter": "python",
   "pygments_lexer": "ipython3",
   "version": "3.7.4"
  }
 },
 "nbformat": 4,
 "nbformat_minor": 4
}
