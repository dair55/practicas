{
 "cells": [
  {
   "cell_type": "code",
   "execution_count": 1,
   "metadata": {},
   "outputs": [],
   "source": [
    "import pandas as pd \n",
    "import numpy as np\n",
    "import missingno as msno\n",
    "%matplotlib inline\n",
    "file = '/home/vagrant/vivienda.csv'\n"
   ]
  },
  {
   "cell_type": "code",
   "execution_count": 3,
   "metadata": {},
   "outputs": [
    {
     "data": {
      "text/html": [
       "<div>\n",
       "<style scoped>\n",
       "    .dataframe tbody tr th:only-of-type {\n",
       "        vertical-align: middle;\n",
       "    }\n",
       "\n",
       "    .dataframe tbody tr th {\n",
       "        vertical-align: top;\n",
       "    }\n",
       "\n",
       "    .dataframe thead th {\n",
       "        text-align: right;\n",
       "    }\n",
       "</style>\n",
       "<table border=\"1\" class=\"dataframe\">\n",
       "  <thead>\n",
       "    <tr style=\"text-align: right;\">\n",
       "      <th></th>\n",
       "      <th>folioviv</th>\n",
       "      <th>tipo_viv</th>\n",
       "      <th>condominio</th>\n",
       "      <th>elevador</th>\n",
       "      <th>mat_pared</th>\n",
       "      <th>mat_techos</th>\n",
       "      <th>mat_pisos</th>\n",
       "      <th>ais_techos</th>\n",
       "      <th>ais_pared</th>\n",
       "      <th>ais_ventan</th>\n",
       "      <th>...</th>\n",
       "      <th>tv_paga</th>\n",
       "      <th>auto_pick</th>\n",
       "      <th>tot_hog</th>\n",
       "      <th>ubica_geo</th>\n",
       "      <th>ageb</th>\n",
       "      <th>tam_loc</th>\n",
       "      <th>est_socio</th>\n",
       "      <th>est_dis</th>\n",
       "      <th>upm</th>\n",
       "      <th>factor</th>\n",
       "    </tr>\n",
       "  </thead>\n",
       "  <tbody>\n",
       "    <tr>\n",
       "      <td>0</td>\n",
       "      <td>100008010</td>\n",
       "      <td>1</td>\n",
       "      <td></td>\n",
       "      <td></td>\n",
       "      <td>8</td>\n",
       "      <td>9</td>\n",
       "      <td>3</td>\n",
       "      <td>2</td>\n",
       "      <td>2</td>\n",
       "      <td>2</td>\n",
       "      <td>...</td>\n",
       "      <td>2</td>\n",
       "      <td>1</td>\n",
       "      <td>1</td>\n",
       "      <td>10010000</td>\n",
       "      <td>000-0</td>\n",
       "      <td>1</td>\n",
       "      <td>4</td>\n",
       "      <td>8</td>\n",
       "      <td>1</td>\n",
       "      <td>221</td>\n",
       "    </tr>\n",
       "    <tr>\n",
       "      <td>1</td>\n",
       "      <td>100008034</td>\n",
       "      <td>1</td>\n",
       "      <td></td>\n",
       "      <td></td>\n",
       "      <td>8</td>\n",
       "      <td>9</td>\n",
       "      <td>3</td>\n",
       "      <td>1</td>\n",
       "      <td>2</td>\n",
       "      <td>2</td>\n",
       "      <td>...</td>\n",
       "      <td>1</td>\n",
       "      <td>1</td>\n",
       "      <td>1</td>\n",
       "      <td>10010000</td>\n",
       "      <td>000-0</td>\n",
       "      <td>1</td>\n",
       "      <td>4</td>\n",
       "      <td>8</td>\n",
       "      <td>1</td>\n",
       "      <td>221</td>\n",
       "    </tr>\n",
       "    <tr>\n",
       "      <td>2</td>\n",
       "      <td>100008077</td>\n",
       "      <td>1</td>\n",
       "      <td></td>\n",
       "      <td></td>\n",
       "      <td>8</td>\n",
       "      <td>9</td>\n",
       "      <td>3</td>\n",
       "      <td>9</td>\n",
       "      <td>9</td>\n",
       "      <td>2</td>\n",
       "      <td>...</td>\n",
       "      <td>1</td>\n",
       "      <td>1</td>\n",
       "      <td>1</td>\n",
       "      <td>10010000</td>\n",
       "      <td>000-0</td>\n",
       "      <td>1</td>\n",
       "      <td>4</td>\n",
       "      <td>8</td>\n",
       "      <td>1</td>\n",
       "      <td>221</td>\n",
       "    </tr>\n",
       "    <tr>\n",
       "      <td>3</td>\n",
       "      <td>100025016</td>\n",
       "      <td>1</td>\n",
       "      <td></td>\n",
       "      <td></td>\n",
       "      <td>8</td>\n",
       "      <td>9</td>\n",
       "      <td>3</td>\n",
       "      <td>1</td>\n",
       "      <td>2</td>\n",
       "      <td>2</td>\n",
       "      <td>...</td>\n",
       "      <td>2</td>\n",
       "      <td>1</td>\n",
       "      <td>1</td>\n",
       "      <td>10010000</td>\n",
       "      <td>000-0</td>\n",
       "      <td>1</td>\n",
       "      <td>3</td>\n",
       "      <td>7</td>\n",
       "      <td>2</td>\n",
       "      <td>194</td>\n",
       "    </tr>\n",
       "    <tr>\n",
       "      <td>4</td>\n",
       "      <td>100025022</td>\n",
       "      <td>1</td>\n",
       "      <td></td>\n",
       "      <td></td>\n",
       "      <td>8</td>\n",
       "      <td>9</td>\n",
       "      <td>3</td>\n",
       "      <td>2</td>\n",
       "      <td>2</td>\n",
       "      <td>2</td>\n",
       "      <td>...</td>\n",
       "      <td>1</td>\n",
       "      <td>1</td>\n",
       "      <td>1</td>\n",
       "      <td>10010000</td>\n",
       "      <td>000-0</td>\n",
       "      <td>1</td>\n",
       "      <td>3</td>\n",
       "      <td>7</td>\n",
       "      <td>2</td>\n",
       "      <td>194</td>\n",
       "    </tr>\n",
       "  </tbody>\n",
       "</table>\n",
       "<p>5 rows × 110 columns</p>\n",
       "</div>"
      ],
      "text/plain": [
       "    folioviv tipo_viv condominio elevador  mat_pared  mat_techos mat_pisos  \\\n",
       "0  100008010        1                              8           9         3   \n",
       "1  100008034        1                              8           9         3   \n",
       "2  100008077        1                              8           9         3   \n",
       "3  100025016        1                              8           9         3   \n",
       "4  100025022        1                              8           9         3   \n",
       "\n",
       "   ais_techos  ais_pared  ais_ventan  ...  tv_paga auto_pick  tot_hog  \\\n",
       "0           2          2           2  ...        2         1        1   \n",
       "1           1          2           2  ...        1         1        1   \n",
       "2           9          9           2  ...        1         1        1   \n",
       "3           1          2           2  ...        2         1        1   \n",
       "4           2          2           2  ...        1         1        1   \n",
       "\n",
       "  ubica_geo   ageb  tam_loc  est_socio est_dis  upm factor  \n",
       "0  10010000  000-0        1          4       8    1    221  \n",
       "1  10010000  000-0        1          4       8    1    221  \n",
       "2  10010000  000-0        1          4       8    1    221  \n",
       "3  10010000  000-0        1          3       7    2    194  \n",
       "4  10010000  000-0        1          3       7    2    194  \n",
       "\n",
       "[5 rows x 110 columns]"
      ]
     },
     "execution_count": 3,
     "metadata": {},
     "output_type": "execute_result"
    }
   ],
   "source": [
    "df= pd.read_csv(file)\n",
    "df.head()"
   ]
  },
  {
   "cell_type": "code",
   "execution_count": 5,
   "metadata": {},
   "outputs": [
    {
     "data": {
      "text/plain": [
       "folioviv      False\n",
       "tipo_viv      False\n",
       "condominio    False\n",
       "elevador      False\n",
       "mat_pared     False\n",
       "              ...  \n",
       "tam_loc       False\n",
       "est_socio     False\n",
       "est_dis       False\n",
       "upm           False\n",
       "factor        False\n",
       "Length: 110, dtype: bool"
      ]
     },
     "execution_count": 5,
     "metadata": {},
     "output_type": "execute_result"
    }
   ],
   "source": [
    "df.isnull().any()"
   ]
  },
  {
   "cell_type": "code",
   "execution_count": 7,
   "metadata": {},
   "outputs": [],
   "source": [
    "df_copy = df.copy() "
   ]
  },
  {
   "cell_type": "code",
   "execution_count": 8,
   "metadata": {},
   "outputs": [
    {
     "data": {
      "text/plain": [
       "(56680, 110)"
      ]
     },
     "execution_count": 8,
     "metadata": {},
     "output_type": "execute_result"
    }
   ],
   "source": [
    "df_copy.shape"
   ]
  },
  {
   "cell_type": "code",
   "execution_count": 9,
   "metadata": {},
   "outputs": [
    {
     "data": {
      "text/plain": [
       "56680"
      ]
     },
     "execution_count": 9,
     "metadata": {},
     "output_type": "execute_result"
    }
   ],
   "source": [
    "df_copy.shape[0]"
   ]
  },
  {
   "cell_type": "code",
   "execution_count": 10,
   "metadata": {},
   "outputs": [
    {
     "data": {
      "text/plain": [
       "Index(['folioviv', 'tipo_viv', 'condominio', 'elevador', 'mat_pared',\n",
       "       'mat_techos', 'mat_pisos', 'ais_techos', 'ais_pared', 'ais_ventan',\n",
       "       ...\n",
       "       'tv_paga', 'auto_pick', 'tot_hog', 'ubica_geo', 'ageb', 'tam_loc',\n",
       "       'est_socio', 'est_dis', 'upm', 'factor'],\n",
       "      dtype='object', length=110)"
      ]
     },
     "execution_count": 10,
     "metadata": {},
     "output_type": "execute_result"
    }
   ],
   "source": [
    "df_copy.columns"
   ]
  },
  {
   "cell_type": "code",
   "execution_count": 11,
   "metadata": {},
   "outputs": [
    {
     "data": {
      "text/plain": [
       "['folioviv',\n",
       " 'tipo_viv',\n",
       " 'condominio',\n",
       " 'elevador',\n",
       " 'mat_pared',\n",
       " 'mat_techos',\n",
       " 'mat_pisos',\n",
       " 'ais_techos',\n",
       " 'ais_pared',\n",
       " 'ais_ventan',\n",
       " 'ais_otro',\n",
       " 'antiguedad',\n",
       " 'cocina',\n",
       " 'cocina_dor',\n",
       " 'cuart_dorm',\n",
       " 'num_cuarto',\n",
       " 'disp_agua',\n",
       " 'dotac_agua',\n",
       " 'excusado',\n",
       " 'uso_compar',\n",
       " 'sanit_agua',\n",
       " 'bano_comp',\n",
       " 'bano_excus',\n",
       " 'bano_regad',\n",
       " 'drenaje',\n",
       " 'disp_elect',\n",
       " 'anio_panel',\n",
       " 'panel_ne',\n",
       " 'pot_panel',\n",
       " 'potencia',\n",
       " 'focos_inca',\n",
       " 'focos_ahor',\n",
       " 'combustible',\n",
       " 'estufa_chi',\n",
       " 'eli_basura',\n",
       " 'lavadero',\n",
       " 'fregadero',\n",
       " 'regadera',\n",
       " 'rega_elect',\n",
       " 'tinaco_azo',\n",
       " 'cisterna',\n",
       " 'pileta',\n",
       " 'calent_sol',\n",
       " 'calent_gas',\n",
       " 'medidor_luz',\n",
       " 'bomba_agua',\n",
       " 'tanque_gas',\n",
       " 'aire_acond',\n",
       " 'calefacc',\n",
       " 'chimenea',\n",
       " 'repar_pard',\n",
       " 'repar_tech',\n",
       " 'repar_agua',\n",
       " 'repar_dren',\n",
       " 'repar_cabl',\n",
       " 'const_dorm',\n",
       " 'const_coci',\n",
       " 'const_bano',\n",
       " 'const_neg',\n",
       " 'comun1',\n",
       " 'comun2',\n",
       " 'comun3',\n",
       " 'comun4',\n",
       " 'comun5',\n",
       " 'comun6',\n",
       " 'comun7',\n",
       " 'comun8',\n",
       " 'comun9',\n",
       " 'estaciona',\n",
       " 'comun10',\n",
       " 'comun11',\n",
       " 'comun12',\n",
       " 'comun13',\n",
       " 'comun14',\n",
       " 'comun15',\n",
       " 'comun16',\n",
       " 'comun17',\n",
       " 'tenencia',\n",
       " 'pago_renta',\n",
       " 'anio_res',\n",
       " 'mes_res',\n",
       " 'familiar',\n",
       " 'tipo_adqui',\n",
       " 'financia_1',\n",
       " 'financia_2',\n",
       " 'financia_3',\n",
       " 'financia_4',\n",
       " 'financia_5',\n",
       " 'financia_6',\n",
       " 'financia_7',\n",
       " 'financia_8',\n",
       " 'num_dueno1',\n",
       " 'hog_dueno1',\n",
       " 'num_dueno2',\n",
       " 'hog_dueno2',\n",
       " 'escrituras',\n",
       " 'computador',\n",
       " 'tel_fijo',\n",
       " 'celular',\n",
       " 'internet',\n",
       " 'tv_paga',\n",
       " 'auto_pick',\n",
       " 'tot_hog',\n",
       " 'ubica_geo',\n",
       " 'ageb',\n",
       " 'tam_loc',\n",
       " 'est_socio',\n",
       " 'est_dis',\n",
       " 'upm',\n",
       " 'factor']"
      ]
     },
     "execution_count": 11,
     "metadata": {},
     "output_type": "execute_result"
    }
   ],
   "source": [
    "list(df_copy.columns)"
   ]
  },
  {
   "cell_type": "code",
   "execution_count": null,
   "metadata": {},
   "outputs": [],
   "source": []
  }
 ],
 "metadata": {
  "kernelspec": {
   "display_name": "Python 3",
   "language": "python",
   "name": "python3"
  },
  "language_info": {
   "codemirror_mode": {
    "name": "ipython",
    "version": 3
   },
   "file_extension": ".py",
   "mimetype": "text/x-python",
   "name": "python",
   "nbconvert_exporter": "python",
   "pygments_lexer": "ipython3",
   "version": "3.7.4"
  }
 },
 "nbformat": 4,
 "nbformat_minor": 4
}
